{
 "cells": [
  {
   "cell_type": "code",
   "execution_count": 1,
   "metadata": {
    "collapsed": false
   },
   "outputs": [
    {
     "name": "stdout",
     "output_type": "stream",
     "text": [
      "How about some radishes?\n"
     ]
    }
   ],
   "source": [
    "# June 11, 2016\n",
    "# This is my first Jupyter Notebook\n",
    "\n",
    "# I am running through the Google Python Course: https://developers.google.com/edu/python/?csw=1\n",
    "\n",
    "# I have created a new GitHub Repository for this course\n",
    "\n",
    "# I am attempting to create text that isn't a cell, but I don't know how...\n",
    "\n",
    "# Here's some Python code I'm going to run:\n",
    "\n",
    "print 'How about some radishes?'"
   ]
  },
  {
   "cell_type": "code",
   "execution_count": 2,
   "metadata": {
    "collapsed": true
   },
   "outputs": [],
   "source": [
    "# That's better I suppose; recall that Shift + Enter runs a code block, or I can click my way to it\n",
    "\n",
    "# I have done the following:\n",
    "# 1) Installed the Anaconda distribution so I have lots of scientific programming stuff\n",
    "# 2) Committed to trying out Jupyter notebooks as a way of distributing/saving my code\n",
    "# 3) Created a GitHub repository for my InsightPrep that I cloned onto my home PC\n",
    "# 4) Downloaded and installed jEdit for editing my programs.\n",
    "# --> I know that I already have/use Notepad++, but I'd like to try out jEdit. I can always go back. \n",
    "\n",
    "# I should note that anything that I'll try to do things in this notebook\n",
    "# However, any programs are going to be created via jEdit and end up in the same folder\n"
   ]
  },
  {
   "cell_type": "code",
   "execution_count": 3,
   "metadata": {
    "collapsed": false
   },
   "outputs": [
    {
     "name": "stdout",
     "output_type": "stream",
     "text": [
      "Howdy Matt\n"
     ]
    }
   ],
   "source": [
    "# 4a) Never mind; I uninstalled jEdit because I already know Notepad++ and I like it\n",
    "\n",
    "# 5) I fixed tabs in Notepad++ (Settings-->Preferences-->Tab settings-->Use Spaces)\n",
    "# 5a) I also gave it Unix Line endings (Edit-->EOL Conversion-->UNIX)\n",
    "\n",
    "# I tested the editor so it now prints \"Howdy Matt\". Something like this:\n",
    "\n",
    "print 'Howdy Matt'"
   ]
  },
  {
   "cell_type": "code",
   "execution_count": 4,
   "metadata": {
    "collapsed": false
   },
   "outputs": [
    {
     "name": "stdout",
     "output_type": "stream",
     "text": [
      "3\n"
     ]
    }
   ],
   "source": [
    "# Philosophy: want a text editor open editing file.py, plus the command line so you can test it out\n",
    "\n",
    "# Recall that \"modules\" are the same as Matlab .m files; they're just source files\n",
    "\n",
    "# Imports: Outer-most statements run from top to bottom the first time it's imported\n",
    "# Can run a module directly (python module.py); also, a module can import another one (import sys)\n",
    "# When you run it directly, the special variable \"__name__\" is set to \"__main__\"\n",
    "# Thus, common to have a \"boilerplate\" if __name__ == '__main__': main()\n",
    "# That calls the main() function when the model is run directly, but not when it's imported\n",
    "\n",
    "# Recall that sys.argv contains command line arguments (starting with 0, the program itself)\n",
    "# Can use len(sys.argv) to pull out the total number of arguments; it's useful!\n",
    "\n",
    "import sys\n",
    "print len(sys.argv)"
   ]
  },
  {
   "cell_type": "code",
   "execution_count": 6,
   "metadata": {
    "collapsed": false
   },
   "outputs": [
    {
     "data": {
      "text/plain": [
       "'BlahBlahBlah!!!'"
      ]
     },
     "execution_count": 6,
     "metadata": {},
     "output_type": "execute_result"
    }
   ],
   "source": [
    "# User-defined functions:\n",
    "def repeat(s, exclaim): \n",
    "    \"\"\" \n",
    "    Returns the string 's' repeated 3 times.\n",
    "    If exclaim is true, add exclamation marks.\n",
    "    \"\"\"\n",
    "    \n",
    "    result = s + s + s # or could do \"s * 3\", which is faster\n",
    "    if exclaim: \n",
    "        result = result + '!!!'\n",
    "    return result\n",
    "    \n",
    "# I've defined a function; let me test it out:\n",
    "repeat('Blah',1)\n"
   ]
  },
  {
   "cell_type": "code",
   "execution_count": 7,
   "metadata": {
    "collapsed": false
   },
   "outputs": [
    {
     "data": {
      "text/plain": [
       "'BlahBlahBlah!!!'"
      ]
     },
     "execution_count": 7,
     "metadata": {},
     "output_type": "execute_result"
    }
   ],
   "source": [
    "# Can also run using the word 'True'\n",
    "repeat('Blah',True)"
   ]
  },
  {
   "cell_type": "code",
   "execution_count": 9,
   "metadata": {
    "collapsed": false
   },
   "outputs": [
    {
     "name": "stdout",
     "output_type": "stream",
     "text": [
      "YayYayYay\n",
      "Woo HooWoo HooWoo Hoo!!!\n"
     ]
    }
   ],
   "source": [
    "# Can also write code that calls the repeat() function and prints what is returned\n",
    "def main():\n",
    "    print repeat('Yay', False)\n",
    "    print repeat('Woo Hoo', True)\n",
    "\n",
    "# Run the main() function:\n",
    "main()"
   ]
  },
  {
   "cell_type": "code",
   "execution_count": 10,
   "metadata": {
    "collapsed": true
   },
   "outputs": [],
   "source": [
    "# Note a few things:\n",
    "# 1) Triple quotes are useful for doing a documentation string (\"docstring\")\n",
    "# 2) Variables defined in the function are local to the function\n",
    "# 3) \"return\" returns the value to the caller\n",
    "# 4) It's typical to define a \"main()\" function at the bottom of the file with the functions it calls above it\n"
   ]
  },
  {
   "cell_type": "code",
   "execution_count": 11,
   "metadata": {
    "collapsed": true
   },
   "outputs": [],
   "source": [
    "# A note on compilation: \n",
    "# Python checks lines usually when they run (not compiling), so lots of errors are runtime\n",
    "# This is a disadvantage of Python; you don't catch errors at compile time\n",
    "# Example: calling \"repeet\" instead of \"repeat\" wouldn't be caught until later...\n",
    "\n",
    "# A note or two on variables:\n",
    "# Because you don't define type, make sure to give good descriptive names so you don't mess things up\n",
    "# Use underscores for multiple word variables, but use camelCasing if the code you're using has it\n",
    "\n",
    "# Some notes on modules and namespaces:\n",
    "# Each module has its own functions (e.g. module.py can have foo1() and foo2(), etc.)\n",
    "# If you do \"import module\", then those functions are module.foo1() and module.foo2(), etc. \n",
    "# If you do \"from module import *\", it'll bring all the functions into the namespace \n",
    "# So you'd reference them as foo1() and foo2()\n",
    "# The problem: if 2 modules have functions named the same, this can mess things up\n",
    "# Their solution: use the original form \"import module\" with the fully-qualified names\n",
    "# That way, it's lots easier to determine where a function or attribute came from\n",
    "\n",
    "# Common modules:\n",
    "# sys: access to exit(), argv, stdin, etc. \n",
    "# re: regex\n",
    "# os: operating system interface, file system"
   ]
  },
  {
   "cell_type": "code",
   "execution_count": 12,
   "metadata": {
    "collapsed": false
   },
   "outputs": [
    {
     "name": "stdout",
     "output_type": "stream",
     "text": [
      "Help on built-in function len in module __builtin__:\n",
      "\n",
      "len(...)\n",
      "    len(object) -> integer\n",
      "    \n",
      "    Return the number of items of a sequence or collection.\n",
      "\n"
     ]
    }
   ],
   "source": [
    "# Looking for help:\n",
    "# Generally, do a Google search\n",
    "# Use the Python site\n",
    "# Use the official Tutor mailing list (https://mail.python.org/mailman/listinfo/tutor)\n",
    "# Look on StackOverflow and Quora\n",
    "# Use help() and dir() funtions:\n",
    "\n",
    "# Help gives documentation strings; the created help info\n",
    "help(len)"
   ]
  },
  {
   "cell_type": "code",
   "execution_count": 13,
   "metadata": {
    "collapsed": false
   },
   "outputs": [
    {
     "data": {
      "text/plain": [
       "['__displayhook__',\n",
       " '__doc__',\n",
       " '__excepthook__',\n",
       " '__name__',\n",
       " '__package__',\n",
       " '__stderr__',\n",
       " '__stdin__',\n",
       " '__stdout__',\n",
       " '_clear_type_cache',\n",
       " '_current_frames',\n",
       " '_getframe',\n",
       " '_mercurial',\n",
       " 'api_version',\n",
       " 'argv',\n",
       " 'builtin_module_names',\n",
       " 'byteorder',\n",
       " 'call_tracing',\n",
       " 'callstats',\n",
       " 'copyright',\n",
       " 'displayhook',\n",
       " 'dllhandle',\n",
       " 'dont_write_bytecode',\n",
       " 'exc_clear',\n",
       " 'exc_info',\n",
       " 'exc_type',\n",
       " 'excepthook',\n",
       " 'exec_prefix',\n",
       " 'executable',\n",
       " 'exit',\n",
       " 'exitfunc',\n",
       " 'flags',\n",
       " 'float_info',\n",
       " 'float_repr_style',\n",
       " 'getcheckinterval',\n",
       " 'getdefaultencoding',\n",
       " 'getfilesystemencoding',\n",
       " 'getprofile',\n",
       " 'getrecursionlimit',\n",
       " 'getrefcount',\n",
       " 'getsizeof',\n",
       " 'gettrace',\n",
       " 'getwindowsversion',\n",
       " 'hexversion',\n",
       " 'last_traceback',\n",
       " 'last_type',\n",
       " 'last_value',\n",
       " 'long_info',\n",
       " 'maxint',\n",
       " 'maxsize',\n",
       " 'maxunicode',\n",
       " 'meta_path',\n",
       " 'modules',\n",
       " 'path',\n",
       " 'path_hooks',\n",
       " 'path_importer_cache',\n",
       " 'platform',\n",
       " 'prefix',\n",
       " 'ps1',\n",
       " 'ps2',\n",
       " 'ps3',\n",
       " 'py3kwarning',\n",
       " 'setcheckinterval',\n",
       " 'setprofile',\n",
       " 'setrecursionlimit',\n",
       " 'settrace',\n",
       " 'stderr',\n",
       " 'stdin',\n",
       " 'stdout',\n",
       " 'subversion',\n",
       " 'version',\n",
       " 'version_info',\n",
       " 'warnoptions',\n",
       " 'winver']"
      ]
     },
     "execution_count": 13,
     "metadata": {},
     "output_type": "execute_result"
    }
   ],
   "source": [
    "# Dir brings up all the defined symbols or 'attributes'\n",
    "dir(sys)"
   ]
  },
  {
   "cell_type": "code",
   "execution_count": 14,
   "metadata": {
    "collapsed": false
   },
   "outputs": [
    {
     "name": "stdout",
     "output_type": "stream",
     "text": [
      "Hello Blah\n",
      "HelloBlah\n"
     ]
    }
   ],
   "source": [
    "# Some notes on strings:\n",
    "# If you print a string with a \"+\", it won't put a space\n",
    "# But if you print a string with a \",\" then it will\n",
    "\n",
    "print 'Hello','Blah'\n",
    "print 'Hello' + 'Blah'"
   ]
  },
  {
   "cell_type": "code",
   "execution_count": 15,
   "metadata": {
    "collapsed": false
   },
   "outputs": [
    {
     "data": {
      "text/plain": [
       "'hello'"
      ]
     },
     "execution_count": 15,
     "metadata": {},
     "output_type": "execute_result"
    }
   ],
   "source": [
    "# More notes on strings:\n",
    "\n",
    "# Strings are immutable: any operations get put into a new variable\n",
    "# Original one stays the same. So:\n",
    "\n",
    "a = 'Hello'\n",
    "a.lower()\n"
   ]
  },
  {
   "cell_type": "code",
   "execution_count": 16,
   "metadata": {
    "collapsed": false
   },
   "outputs": [
    {
     "data": {
      "text/plain": [
       "'Hello'"
      ]
     },
     "execution_count": 16,
     "metadata": {},
     "output_type": "execute_result"
    }
   ],
   "source": [
    "# So a is actually the same thing as it was originally\n",
    "a"
   ]
  },
  {
   "cell_type": "code",
   "execution_count": 17,
   "metadata": {
    "collapsed": false
   },
   "outputs": [
    {
     "data": {
      "text/plain": [
       "1"
      ]
     },
     "execution_count": 17,
     "metadata": {},
     "output_type": "execute_result"
    }
   ],
   "source": [
    "# Remember, there's LOTS of built in string methods;\n",
    "\n",
    "a.find('e')"
   ]
  },
  {
   "cell_type": "code",
   "execution_count": 18,
   "metadata": {
    "collapsed": false
   },
   "outputs": [
    {
     "data": {
      "text/plain": [
       "'HELLO'"
      ]
     },
     "execution_count": 18,
     "metadata": {},
     "output_type": "execute_result"
    }
   ],
   "source": [
    "a.upper()"
   ]
  },
  {
   "cell_type": "markdown",
   "metadata": {},
   "source": [
    "Now I think Ive figured out how to make a regular cell here;\n"
   ]
  },
  {
   "cell_type": "markdown",
   "metadata": {},
   "source": [
    "Yes, if I choose to make it a \"markdown cell\", then running the Shift + Enter creates the text block when I'm done"
   ]
  },
  {
   "cell_type": "markdown",
   "metadata": {},
   "source": [
    "What's great about this is I think I can type LaTeX math things easily...\n",
    "\n",
    "For instance, if I surround an in-line expression with dollar signs, I can do some cool things like this: $x^2$\n",
    "\n",
    "Or I can do expressions on their own line with double dollar signs: $$x^2$$"
   ]
  },
  {
   "cell_type": "markdown",
   "metadata": {},
   "source": [
    "I can also do text type stuff, like making headings using number signs:\n",
    "\n",
    "# Heading 1\n",
    "Some stuff\n",
    "\n",
    "# Heading 2\n",
    "Some other stuff; also I can make a subheading with a double number sign:\n",
    "## Heading 2.1\n",
    "It's also important to put a space before the text but after the number sign:\n",
    "### Heading 2.1.1\n",
    "#### Heading 2.1.1.1\n",
    "\n",
    "And so on; cool"
   ]
  },
  {
   "cell_type": "markdown",
   "metadata": {},
   "source": [
    "I'm going to use my new fun markdown tools to make a heading for what comes next:\n",
    "\n",
    "# Last notes on Strings\n",
    "\n",
    "The Google class shows all sorts of things I already know. Here's some stuff called \"format strings\"\n",
    "\n",
    "By using the % sign, you can insert placeholders; but you can do it in a normal string if you want:"
   ]
  },
  {
   "cell_type": "code",
   "execution_count": 20,
   "metadata": {
    "collapsed": false
   },
   "outputs": [
    {
     "data": {
      "text/plain": [
       "'This class is like 90% things I already know'"
      ]
     },
     "execution_count": 20,
     "metadata": {},
     "output_type": "execute_result"
    }
   ],
   "source": [
    "# Using it simply here, and noting that a double %% makes one:\n",
    "'This class is like %d%% things I already know' %90"
   ]
  },
  {
   "cell_type": "markdown",
   "metadata": {},
   "source": [
    "He notes that these string aren't unicode, but that unicode is supported and you can do all these things with it; maybe something to know at some point\n",
    "\n",
    "Remember indexing rules:"
   ]
  },
  {
   "cell_type": "code",
   "execution_count": 21,
   "metadata": {
    "collapsed": false
   },
   "outputs": [
    {
     "data": {
      "text/plain": [
       "'el'"
      ]
     },
     "execution_count": 21,
     "metadata": {},
     "output_type": "execute_result"
    }
   ],
   "source": [
    "a = 'Hello'\n",
    "# The colon takes the first argument and stops before the last one\n",
    "a[1:3]"
   ]
  },
  {
   "cell_type": "code",
   "execution_count": 22,
   "metadata": {
    "collapsed": false
   },
   "outputs": [
    {
     "data": {
      "text/plain": [
       "'Hel'"
      ]
     },
     "execution_count": 22,
     "metadata": {},
     "output_type": "execute_result"
    }
   ],
   "source": [
    "# If you emit the start or end, it'll take the rest of it\n",
    "a[:3]"
   ]
  },
  {
   "cell_type": "code",
   "execution_count": 23,
   "metadata": {
    "collapsed": false
   },
   "outputs": [
    {
     "data": {
      "text/plain": [
       "'lo'"
      ]
     },
     "execution_count": 23,
     "metadata": {},
     "output_type": "execute_result"
    }
   ],
   "source": [
    "a[3:]"
   ]
  },
  {
   "cell_type": "code",
   "execution_count": 24,
   "metadata": {
    "collapsed": false
   },
   "outputs": [
    {
     "data": {
      "text/plain": [
       "'o'"
      ]
     },
     "execution_count": 24,
     "metadata": {},
     "output_type": "execute_result"
    }
   ],
   "source": [
    "# Also, negative numbers go backwards, basically len(a) - positive index:\n",
    "a[-1]"
   ]
  },
  {
   "cell_type": "code",
   "execution_count": 25,
   "metadata": {
    "collapsed": false
   },
   "outputs": [
    {
     "data": {
      "text/plain": [
       "'o'"
      ]
     },
     "execution_count": 25,
     "metadata": {},
     "output_type": "execute_result"
    }
   ],
   "source": [
    "# Same as a[4]\n",
    "a[4]"
   ]
  },
  {
   "cell_type": "code",
   "execution_count": 26,
   "metadata": {
    "collapsed": false
   },
   "outputs": [
    {
     "data": {
      "text/plain": [
       "'llo'"
      ]
     },
     "execution_count": 26,
     "metadata": {},
     "output_type": "execute_result"
    }
   ],
   "source": [
    "# Can be useful if you want, say, the last 3 characters:\n",
    "a[-3:]"
   ]
  },
  {
   "cell_type": "markdown",
   "metadata": {},
   "source": [
    "This is the end ofthe string section; note at the end that he talks about not using tabs in editors, because tabs+spaces is hard. So he puts '-tt' flag after the shebang to protect against this."
   ]
  },
  {
   "cell_type": "markdown",
   "metadata": {},
   "source": [
    "# Day 1 Part 2: Lists, Sorting, Tuples\n",
    "I know what a list is; it's in square brackets: [1,2,3], ['a','b'],[1,'1','b',4], etc.\n",
    "\n",
    "Many operations for strings also work on lists (e.g. '+','len',etc.)\n",
    "\n",
    "BUT: setting one list equal to another actually points to the same list"
   ]
  },
  {
   "cell_type": "code",
   "execution_count": 27,
   "metadata": {
    "collapsed": false
   },
   "outputs": [
    {
     "data": {
      "text/plain": [
       "[10, 2, 3]"
      ]
     },
     "execution_count": 27,
     "metadata": {},
     "output_type": "execute_result"
    }
   ],
   "source": [
    "a = [1,2,3]\n",
    "b = a\n",
    "# Now if I change an element of a, it also changes b\n",
    "a[0] = 10\n",
    "b"
   ]
  },
  {
   "cell_type": "code",
   "execution_count": null,
   "metadata": {
    "collapsed": true
   },
   "outputs": [],
   "source": [
    "# "
   ]
  }
 ],
 "metadata": {
  "kernelspec": {
   "display_name": "Python 2",
   "language": "python",
   "name": "python2"
  },
  "language_info": {
   "codemirror_mode": {
    "name": "ipython",
    "version": 2
   },
   "file_extension": ".py",
   "mimetype": "text/x-python",
   "name": "python",
   "nbconvert_exporter": "python",
   "pygments_lexer": "ipython2",
   "version": "2.7.11"
  }
 },
 "nbformat": 4,
 "nbformat_minor": 0
}
